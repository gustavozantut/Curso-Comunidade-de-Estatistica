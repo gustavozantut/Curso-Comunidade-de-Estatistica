{
 "cells": [
  {
   "cell_type": "code",
   "execution_count": null,
   "metadata": {},
   "outputs": [],
   "source": [
    "#Aula prática 08 - Python - Distribuições de Probabilidade Discretas - Geométrica"
   ]
  },
  {
   "cell_type": "code",
   "execution_count": 1,
   "metadata": {},
   "outputs": [],
   "source": [
    "from scipy.stats import geom"
   ]
  },
  {
   "cell_type": "code",
   "execution_count": 19,
   "metadata": {},
   "outputs": [
    {
     "data": {
      "text/plain": [
       "'0.03%'"
      ]
     },
     "execution_count": 19,
     "metadata": {},
     "output_type": "execute_result"
    }
   ],
   "source": [
    "#A probabilidade de ser detectada uma peÃ§a defeituosa em uma linha de produÃ§Ã£o Ã© 2/3. \n",
    "#Se um funcionÃ¡rio deve testar as peÃ§as do lote atÃ© que se detecte pela primeira uma peÃ§a defeituosa, \n",
    "#qual a probabilidade de que sejam necessÃ¡rios exatamente 8 testagens?\n",
    "\n",
    "#utilizando a funÃ§Ã£o massa de probabilidade aplicando para X=8: P(X=x)\n",
    "\"{:.2%}\".format(geom.pmf(8,2/3))"
   ]
  },
  {
   "cell_type": "code",
   "execution_count": 18,
   "metadata": {},
   "outputs": [
    {
     "data": {
      "text/plain": [
       "'0.03%'"
      ]
     },
     "execution_count": 18,
     "metadata": {},
     "output_type": "execute_result"
    }
   ],
   "source": [
    "#Utilizando a funÃ§Ã£o de distribuiÃ§Ã£o acumulada P(X<=8)-P(X<=7)= P(X=8)\n",
    "\"{:.2%}\".format(geom.cdf(8,2/3)-geom.cdf(7,2/3))"
   ]
  }
 ],
 "metadata": {
  "kernelspec": {
   "display_name": "Python 3",
   "language": "python",
   "name": "python3"
  },
  "language_info": {
   "codemirror_mode": {
    "name": "ipython",
    "version": 3
   },
   "file_extension": ".py",
   "mimetype": "text/x-python",
   "name": "python",
   "nbconvert_exporter": "python",
   "pygments_lexer": "ipython3",
   "version": "3.7.6"
  }
 },
 "nbformat": 4,
 "nbformat_minor": 4
}
