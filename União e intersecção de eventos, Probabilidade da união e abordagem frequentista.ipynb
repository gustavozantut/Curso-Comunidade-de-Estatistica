{
 "cells": [
  {
   "cell_type": "code",
   "execution_count": 4,
   "metadata": {},
   "outputs": [],
   "source": [
    "import random\n",
    "import numpy as np\n",
    "import math\n",
    "import itertools\n",
    "import pandas as pd\n",
    "from collections import Counter"
   ]
  },
  {
   "cell_type": "code",
   "execution_count": 5,
   "metadata": {},
   "outputs": [
    {
     "data": {
      "text/plain": [
       "[1, 2, 3, 4, 5, 6]"
      ]
     },
     "execution_count": 5,
     "metadata": {},
     "output_type": "execute_result"
    }
   ],
   "source": [
    "#criando o dado\n",
    "dado = [x for x in range(1,7)]\n",
    "dado"
   ]
  },
  {
   "cell_type": "code",
   "execution_count": 6,
   "metadata": {},
   "outputs": [
    {
     "data": {
      "text/plain": [
       "[2, 4, 6]"
      ]
     },
     "execution_count": 6,
     "metadata": {},
     "output_type": "execute_result"
    }
   ],
   "source": [
    "#selecionando faces pares\n",
    "[x for x in dado if x%2==0]"
   ]
  },
  {
   "cell_type": "code",
   "execution_count": 7,
   "metadata": {},
   "outputs": [],
   "source": [
    "#Seja o Evento A e B, definidos a seguir:\n",
    "#A: \"Aparecer Faces Pares do dado\": {2, 4, 6}\n",
    "#B:  \"Aparecer Faces maiores 3\": {4,5,6}\n",
    "#diga que  é a união dos eventos e a interseção  entre eles.\n",
    "\n",
    "fpar = [x for x in dado if x%2==0]\n",
    "fm3 = [x for x in dado if x>3]\n",
    "\n",
    "#uniao dos eventos\n",
    "u = set(fpar).union(set(fm3))\n",
    "\n",
    "#interseção\n",
    "i = set(fpar).intersection(set(fm3))\n"
   ]
  },
  {
   "cell_type": "code",
   "execution_count": 17,
   "metadata": {},
   "outputs": [
    {
     "name": "stdout",
     "output_type": "stream",
     "text": [
      "matriz criada: \n",
      "   M1 M2 M3\n",
      "0  H  H  H\n",
      "1  H  H  T\n",
      "2  H  T  H\n",
      "3  H  T  T\n",
      "4  T  H  H\n",
      "5  T  H  T\n",
      "6  T  T  H\n",
      "7  T  T  T\n"
     ]
    }
   ],
   "source": [
    "#Seja o evento: Obter duas caras no lançamento de 3 moedas.  \n",
    "#Calcule a probabilidade da ocorrência do evento, ocorrer duas caras.\n",
    "\n",
    "#cria o espaço amostral para um lançamento de moedas\n",
    "#H=head(cara)\n",
    "#T=tail(coroa)\n",
    "\n",
    "#cria moeda\n",
    "moeda = [x for x in (\"H\",\"T\")]\n",
    "qtd_moeda = 3\n",
    "# numero de combinações possíveis\n",
    "comb = int(math.pow(len(moeda),qtd_moeda))\n",
    "\n",
    "#cria matriz vazia\n",
    "mres = [[0] * qtd_moeda for i in range(comb)]\n",
    "\n",
    "#combinacoes possiveis\n",
    "iterables = [ [\"H\",\"T\"], [\"H\",\"T\"], [\"H\",\"T\"] ]\n",
    "for t, i in zip(itertools.product(*iterables), range(0,comb)):\n",
    "    mres[i] = t\n",
    "\n",
    "\n",
    "mres = pd.DataFrame(mres, columns = [\"M1\",\"M2\",\"M3\"])\n",
    "print(\"matriz criada: \\n\", mres)"
   ]
  },
  {
   "cell_type": "code",
   "execution_count": 149,
   "metadata": {
    "scrolled": true
   },
   "outputs": [
    {
     "data": {
      "text/html": [
       "<div>\n",
       "<style scoped>\n",
       "    .dataframe tbody tr th:only-of-type {\n",
       "        vertical-align: middle;\n",
       "    }\n",
       "\n",
       "    .dataframe tbody tr th {\n",
       "        vertical-align: top;\n",
       "    }\n",
       "\n",
       "    .dataframe thead th {\n",
       "        text-align: right;\n",
       "    }\n",
       "</style>\n",
       "<table border=\"1\" class=\"dataframe\">\n",
       "  <thead>\n",
       "    <tr style=\"text-align: right;\">\n",
       "      <th></th>\n",
       "      <th>M1</th>\n",
       "      <th>M2</th>\n",
       "      <th>M3</th>\n",
       "      <th>Qtd_H</th>\n",
       "    </tr>\n",
       "  </thead>\n",
       "  <tbody>\n",
       "    <tr>\n",
       "      <th>0</th>\n",
       "      <td>H</td>\n",
       "      <td>T</td>\n",
       "      <td>H</td>\n",
       "      <td>2</td>\n",
       "    </tr>\n",
       "    <tr>\n",
       "      <th>1</th>\n",
       "      <td>H</td>\n",
       "      <td>T</td>\n",
       "      <td>T</td>\n",
       "      <td>1</td>\n",
       "    </tr>\n",
       "    <tr>\n",
       "      <th>2</th>\n",
       "      <td>T</td>\n",
       "      <td>H</td>\n",
       "      <td>H</td>\n",
       "      <td>2</td>\n",
       "    </tr>\n",
       "    <tr>\n",
       "      <th>3</th>\n",
       "      <td>H</td>\n",
       "      <td>H</td>\n",
       "      <td>H</td>\n",
       "      <td>3</td>\n",
       "    </tr>\n",
       "    <tr>\n",
       "      <th>4</th>\n",
       "      <td>T</td>\n",
       "      <td>T</td>\n",
       "      <td>T</td>\n",
       "      <td>0</td>\n",
       "    </tr>\n",
       "    <tr>\n",
       "      <th>5</th>\n",
       "      <td>T</td>\n",
       "      <td>T</td>\n",
       "      <td>H</td>\n",
       "      <td>1</td>\n",
       "    </tr>\n",
       "    <tr>\n",
       "      <th>6</th>\n",
       "      <td>T</td>\n",
       "      <td>H</td>\n",
       "      <td>T</td>\n",
       "      <td>1</td>\n",
       "    </tr>\n",
       "    <tr>\n",
       "      <th>7</th>\n",
       "      <td>H</td>\n",
       "      <td>H</td>\n",
       "      <td>T</td>\n",
       "      <td>2</td>\n",
       "    </tr>\n",
       "  </tbody>\n",
       "</table>\n",
       "</div>"
      ],
      "text/plain": [
       "  M1 M2 M3  Qtd_H\n",
       "0  H  T  H      2\n",
       "1  H  T  T      1\n",
       "2  T  H  H      2\n",
       "3  H  H  H      3\n",
       "4  T  T  T      0\n",
       "5  T  T  H      1\n",
       "6  T  H  T      1\n",
       "7  H  H  T      2"
      ]
     },
     "execution_count": 149,
     "metadata": {},
     "output_type": "execute_result"
    }
   ],
   "source": [
    "# espaço amostral 2 caras(H)\n",
    "mres[\"Qtd_H\"] = mres.apply(lambda row: Counter(row)[\"H\"], axis = 1)\n",
    "mres "
   ]
  },
  {
   "cell_type": "code",
   "execution_count": 160,
   "metadata": {
    "scrolled": true
   },
   "outputs": [
    {
     "name": "stdout",
     "output_type": "stream",
     "text": [
      "probabilidade de 2 caras:  37.50%\n"
     ]
    }
   ],
   "source": [
    "p2h = mres[mres[\"Qtd_H\"]==2].shape[0]/mres.shape[0]\n",
    "print(\"probabilidade de 2 caras: \", \"{:.2%}\".format(p2h))"
   ]
  },
  {
   "cell_type": "code",
   "execution_count": 161,
   "metadata": {},
   "outputs": [
    {
     "name": "stdout",
     "output_type": "stream",
     "text": [
      "probabilidade da união:  34.00%\n"
     ]
    }
   ],
   "source": [
    "#Uma empresa precisa analisar a propensão de compra de um certo produto de dois clientes. \n",
    "#Baseado em dados históricos da empresa, o cliente A tem propensão de compra de 30%, já o cliente B possui 28% de propensão a comprar este produto. \n",
    "#Ambos juntos tem a propensão de compra de 24% . \n",
    "#Qual a probabilidade de que o mesmo seja comprado por pelo menos um dos clientes?\n",
    "  \n",
    "PA=0.30\n",
    "PB=0.28\n",
    "PAinterB=0.24\n",
    "PAuniaoB=PA+PB-PAinterB\n",
    "print(\"probabilidade da união: \", \"{:.2%}\".format(PAuniaoB))"
   ]
  },
  {
   "cell_type": "code",
   "execution_count": null,
   "metadata": {},
   "outputs": [],
   "source": []
  }
 ],
 "metadata": {
  "kernelspec": {
   "display_name": "Python 3",
   "language": "python",
   "name": "python3"
  },
  "language_info": {
   "codemirror_mode": {
    "name": "ipython",
    "version": 3
   },
   "file_extension": ".py",
   "mimetype": "text/x-python",
   "name": "python",
   "nbconvert_exporter": "python",
   "pygments_lexer": "ipython3",
   "version": "3.7.6"
  }
 },
 "nbformat": 4,
 "nbformat_minor": 4
}
