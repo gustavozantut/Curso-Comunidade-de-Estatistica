{
 "cells": [
  {
   "cell_type": "code",
   "execution_count": 74,
   "metadata": {},
   "outputs": [],
   "source": [
    "#Aula prática 06 - Python - Distribuições de Probabilidade Discretas - Poisson"
   ]
  },
  {
   "cell_type": "code",
   "execution_count": 75,
   "metadata": {},
   "outputs": [],
   "source": [
    "import math\n",
    "from scipy.stats import poisson"
   ]
  },
  {
   "cell_type": "code",
   "execution_count": 76,
   "metadata": {},
   "outputs": [
    {
     "name": "stdout",
     "output_type": "stream",
     "text": [
      "Utilizando a funÃ§Ã£o massa de probabilidade aplicando para X=2: P(X=2):\n",
      " 22.40% \n",
      " Utilizando a funÃ§Ã£o de distribuiÃ§Ã£o acumulada P(X<=2)-P(X<=1)= P(X=2):\n",
      " 22.40% \n",
      " Na mão:\n",
      " 22.40%\n"
     ]
    }
   ],
   "source": [
    "#Exemplo Poisson\n",
    "#O nÃºmero de acidentes que acontecem na ponte Rio NiterÃ³i segue uma \n",
    "#distribuiÃ§Ã£o de Poisson com mÃ©dia 3 por hora.\n",
    "\n",
    "#\n",
    "#a) Calcule a probabilidade de 2 acidentes em uma hora.\n",
    "#b) Calcule a probabilidade de pelo menos 2 acidentes em 2 horas.\n",
    "\n",
    "#a)\n",
    "lamb=3\n",
    "x=2\n",
    "print(\"Utilizando a funÃ§Ã£o massa de probabilidade aplicando para X=2: P(X=2):\\n\",\n",
    "      \"{:.2%}\".format(poisson.pmf(x,lamb)),\"\\n\",\n",
    "      \"Utilizando a funÃ§Ã£o de distribuiÃ§Ã£o acumulada P(X<=2)-P(X<=1)= P(X=2):\\n\",\n",
    "      \"{:.2%}\".format((poisson.cdf(x,lamb)-poisson.cdf(x-1,lamb))),\"\\n\",\n",
    "     \"Na mão:\\n\",\n",
    "     \"{:.2%}\".format(math.pow(lamb,x)*math.exp(-lamb)/math.factorial(x))\n",
    "     )\n",
    "\n",
    "\n"
   ]
  },
  {
   "cell_type": "code",
   "execution_count": 77,
   "metadata": {},
   "outputs": [
    {
     "name": "stdout",
     "output_type": "stream",
     "text": [
      "Utilizando a funÃ§Ã£o massa de distribuiÃ§Ã£o acumulada 1-P(X<=1)= P(X=2)\n",
      " 98.26% \n",
      " Utilizando a funÃ§Ã£o de distribuiÃ§Ã£o acumulada P(X<=2)-P(X<=1)= P(X=2):\n",
      " 98.26% \n",
      " Na mão:\n",
      " 98.26%\n"
     ]
    }
   ],
   "source": [
    "#b)\n",
    "#Como o a taxa solicitada estÃ¡ em 2horas, ajustaremos o lÃ¢mbida proporcionalmente para 6.\n",
    "lamb=6\n",
    "x=2\n",
    "#probabilidade de x >= 2 é igual a 1-probabilidade de x <= 1\n",
    "print(\"Utilizando a funÃ§Ã£o massa de distribuiÃ§Ã£o acumulada 1-P(X<=1)= P(X=2)\\n\",#probabilidade de x\n",
    "      \"{:.2%}\".format(1-poisson.cdf(x-1,lamb)),\"\\n\",\n",
    "      \"Utilizando a funÃ§Ã£o de distribuiÃ§Ã£o acumulada P(X<=2)-P(X<=1)= P(X=2):\\n\",\n",
    "      \"{:.2%}\".format(1-(poisson.pmf(0,lamb)+poisson.pmf(1,lamb))),\"\\n\",\n",
    "     \"Na mão:\\n\",\n",
    "     \"{:.2%}\".format(1-(math.pow(lamb,0)*math.exp(-lamb)/math.factorial(0)+\n",
    "                        math.pow(lamb,1)*math.exp(-lamb)/math.factorial(1)))\n",
    "     )"
   ]
  },
  {
   "cell_type": "code",
   "execution_count": null,
   "metadata": {},
   "outputs": [],
   "source": []
  }
 ],
 "metadata": {
  "kernelspec": {
   "display_name": "Python 3",
   "language": "python",
   "name": "python3"
  },
  "language_info": {
   "codemirror_mode": {
    "name": "ipython",
    "version": 3
   },
   "file_extension": ".py",
   "mimetype": "text/x-python",
   "name": "python",
   "nbconvert_exporter": "python",
   "pygments_lexer": "ipython3",
   "version": "3.7.6"
  }
 },
 "nbformat": 4,
 "nbformat_minor": 4
}
