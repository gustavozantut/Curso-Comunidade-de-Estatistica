{
 "cells": [
  {
   "cell_type": "code",
   "execution_count": null,
   "metadata": {},
   "outputs": [],
   "source": [
    "#Aula prática 10 - Python - Distribuições de Probabilidade Discretas - Hipergeométrica"
   ]
  },
  {
   "cell_type": "code",
   "execution_count": 27,
   "metadata": {},
   "outputs": [],
   "source": [
    "from scipy.stats import binom\n",
    "from scipy.stats import hypergeom\n",
    "import math"
   ]
  },
  {
   "cell_type": "code",
   "execution_count": 13,
   "metadata": {},
   "outputs": [
    {
     "data": {
      "text/plain": [
       "'10.26%'"
      ]
     },
     "execution_count": 13,
     "metadata": {},
     "output_type": "execute_result"
    }
   ],
   "source": [
    "#HipergeomÃ©trica\n",
    "\n",
    "#Exemplo hipergeomÃ©trica\n",
    "\n",
    "#Em uma eleiÃ§Ã£o, suponha que 300 dos 1000 habitantes de um municÃ­pio sÃ£o eleitores \n",
    "#de um candidato A. Toma-se uma amostra de 10 eleitores.\n",
    "#Qual a probabilidade de que exatamente 5 deles pretendam votar no candidato A?\n",
    "\n",
    "#hypergeom.pmf(x, N, r, n)  \n",
    "\n",
    "#utilizando a funÃ§Ã£o densidade de probabilidade aplicando para X=5: P(X=5)\n",
    "\"{:.2%}\".format(hypergeom.pmf(5, 1000, 300, 10))"
   ]
  },
  {
   "cell_type": "code",
   "execution_count": 12,
   "metadata": {},
   "outputs": [
    {
     "data": {
      "text/plain": [
       "'10.26%'"
      ]
     },
     "execution_count": 12,
     "metadata": {},
     "output_type": "execute_result"
    }
   ],
   "source": [
    "#Utilizando a funÃ§Ã£o de distribuiÃ§Ã£o acumulada P(X<=5)-P(X<=4)= P(X=5)\n",
    "\"{:.2%}\".format(hypergeom.cdf(5, 1000, 300, 10) - hypergeom.cdf(4, 1000, 300, 10))"
   ]
  },
  {
   "cell_type": "code",
   "execution_count": 26,
   "metadata": {},
   "outputs": [
    {
     "data": {
      "text/plain": [
       "'10.26%'"
      ]
     },
     "execution_count": 26,
     "metadata": {},
     "output_type": "execute_result"
    }
   ],
   "source": [
    "#HipergeomÃ©trica na \"MÃ£o\"\n",
    "def choose(n,r):\n",
    "    f = math.factorial\n",
    "    return f(n) // f(r) // f(n-r)\n",
    "\n",
    "\"{:.2%}\".format(choose(300,5)*choose(700,5)/choose(1000,10))"
   ]
  },
  {
   "cell_type": "code",
   "execution_count": 28,
   "metadata": {},
   "outputs": [
    {
     "data": {
      "text/plain": [
       "'10.29%'"
      ]
     },
     "execution_count": 28,
     "metadata": {},
     "output_type": "execute_result"
    }
   ],
   "source": [
    "#hypergeometrica aproximada para binomial(caso N >= 20n)\n",
    "\"{:.2%}\".format(binom.pmf(5, 10, 0.3))"
   ]
  }
 ],
 "metadata": {
  "kernelspec": {
   "display_name": "Python 3",
   "language": "python",
   "name": "python3"
  },
  "language_info": {
   "codemirror_mode": {
    "name": "ipython",
    "version": 3
   },
   "file_extension": ".py",
   "mimetype": "text/x-python",
   "name": "python",
   "nbconvert_exporter": "python",
   "pygments_lexer": "ipython3",
   "version": "3.7.6"
  }
 },
 "nbformat": 4,
 "nbformat_minor": 4
}
