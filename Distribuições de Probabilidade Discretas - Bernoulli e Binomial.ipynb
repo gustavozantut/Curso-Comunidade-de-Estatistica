{
 "cells": [
  {
   "cell_type": "code",
   "execution_count": 15,
   "metadata": {},
   "outputs": [],
   "source": [
    "#Aula prÃ¡tica 04 - DistribuiÃ§Ãµes de Probabilidade discretas - Bernoulli e Binomial"
   ]
  },
  {
   "cell_type": "code",
   "execution_count": 16,
   "metadata": {},
   "outputs": [],
   "source": [
    "from scipy.stats import binom"
   ]
  },
  {
   "cell_type": "code",
   "execution_count": 26,
   "metadata": {},
   "outputs": [
    {
     "data": {
      "text/plain": [
       "'50.00%'"
      ]
     },
     "execution_count": 26,
     "metadata": {},
     "output_type": "execute_result"
    }
   ],
   "source": [
    "#Exemplo Bernoulli\n",
    "#Imaginemos que X=\"O aluno acertar uma questÃ£o na prova\", sendo que a prova sÃ³ tem uma questÃ£o, contendo certo ou errado, \n",
    "#portanto podemos entender que o aluno tem uma resposta favorÃ¡vel em duas possÃ­veis, 50% de chance de acertar a questÃ£o.\n",
    "\"{:.2%}\".format(binom.cdf(1, 1, 0.5)-binom.cdf(0, 1, 0.5))"
   ]
  },
  {
   "cell_type": "code",
   "execution_count": 25,
   "metadata": {},
   "outputs": [
    {
     "data": {
      "text/plain": [
       "'37.50%'"
      ]
     },
     "execution_count": 25,
     "metadata": {},
     "output_type": "execute_result"
    }
   ],
   "source": [
    "#Exemplo Binomial\n",
    "#Imaginemos que X=\"O aluno acertar uma questÃ£o na prova\", sendo que a prova sÃ³ tem tres questÃµes, contendo certo ou errado, \n",
    "#portanto podemos entender que o aluno tem uma resposta favorÃ¡vel em  duas possÃ­veis, 50% de chance de acertar a questÃ£o.\n",
    "\"{:.2%}\".format(binom.cdf(1, 3, 0.5)-binom.cdf(0, 3, 0.5))\n"
   ]
  },
  {
   "cell_type": "code",
   "execution_count": 22,
   "metadata": {},
   "outputs": [
    {
     "name": "stdout",
     "output_type": "stream",
     "text": [
      "Probabilidade : 10.91% \n",
      "valor esperado : 4.0\n"
     ]
    }
   ],
   "source": [
    "#Exemplo2 Binomial\n",
    "#Considere um exame de mÃºltipla escolha com 20 questÃµes, 5 alternativas pra cada pergunta. \n",
    "#Caso o aluno nÃ£o estude e \"chute\" todas as respostas, qual a probabilidade de acertar 30% da prova? E qual seu nÃºmero esperado de acertos? \n",
    "\n",
    "n=20\n",
    "p=0.2\n",
    "#x segue uma binomial(20,1/5)\n",
    "pg = binom.cdf(6,n,p)-binom.cdf(5,n,p)\n",
    "\n",
    "valor_esperado=n*p\n",
    "\n",
    "print(\"Probabilidade :\",\"{:.2%}\".format(pg),\"\\nvalor esperado :\", valor_esperado)\n"
   ]
  }
 ],
 "metadata": {
  "kernelspec": {
   "display_name": "Python 3",
   "language": "python",
   "name": "python3"
  },
  "language_info": {
   "codemirror_mode": {
    "name": "ipython",
    "version": 3
   },
   "file_extension": ".py",
   "mimetype": "text/x-python",
   "name": "python",
   "nbconvert_exporter": "python",
   "pygments_lexer": "ipython3",
   "version": "3.7.6"
  }
 },
 "nbformat": 4,
 "nbformat_minor": 4
}
