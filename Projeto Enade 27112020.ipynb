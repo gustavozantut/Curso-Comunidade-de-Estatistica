{
 "cells": [
  {
   "cell_type": "code",
   "execution_count": 1,
   "metadata": {},
   "outputs": [],
   "source": [
    "#DATASET : https://www.gov.br/inep/pt-br/acesso-a-informacao/dados-abertos/microdados/enade\n",
    "#CO_CATEGAD\tCódigo da categoria administrativa da IES\t\n",
    "\n",
    "#1 = Pública Federal\n",
    "#2 = Pública Estadual\n",
    "#3 = Pública Municipal\n",
    "#4 = Privada com fins lucrativos\n",
    "#5 = Privada sem fins lucrativos\n",
    "#7 = Especial\n",
    "\n",
    "#area_curso\n",
    "#Código da área de enquadramento do curso no Enade\n",
    "#&CO_GRUPO==1401&\n",
    "#\"21 = Arquitetura e Urbanismo\n",
    "#72 = Tecnologia em Análiseise e Desenvolvimento de Sistemas\n",
    "#76 = Tecnologia em Gestão da Produçãoo Industrial\n",
    "#79 = Tecnologia em Redes de Computadores\n",
    "#701 = Matemática (Bacharelado)\n",
    "#702 = Matemática (Licenciatura)\n",
    "#903 = Letras-Portuguesa (Bacharelado)\n",
    "#904 = Letras-Portuguesa (Licenciatura)\n",
    "#905 = Letras-Portuguesa e Inglês (Licenciatura)\n",
    "#906 = Letras-Portuguesa e Espanhol (Licenciatura)\n",
    "#1401 = Física (Bacharelado)\n",
    "#1402 = Física (Licenciatura)\n",
    "#1501 = Química (Bacharelado)\n",
    "#1502 = Química (Licenciatura)\n",
    "#1601 = Ciências Biológicas (Bacharelado)\n",
    "#1602 = Ciências Biológicas (Licenciatura)\n",
    "#2001 = Pedagogia (Licenciatura)\n",
    "#2401 = História (Bacharelado)\n",
    "#2402 = História (Licenciatura)\n",
    "#2501 = Artes Visuais (Licenciatura)\n",
    "#3001 = Geografia (Bacharelado)\n",
    "#3002 = Geografia (Licenciatura)\n",
    "#3201 = Filosofia (Bacharelado)\n",
    "#3202 = Filosofia (Licenciatura)\n",
    "#3502 = Educaçãoo Física (Licenciatura)\n",
    "\n",
    "\n",
    "#CO_REGIAO_CURSO\tCódigo da região de funcionamento do curso\t\n",
    "#1 = Norte\n",
    "#2 = Nordeste\n",
    "#3 = Sudeste\n",
    "#4 = Sul\n",
    "#5 = Centro-Oeste\n",
    "\n",
    "#NU_IDADE\tIdade do inscrito em 26/11/2017\tmin = 10  max = 95\n",
    "\n",
    "#TP_SEXO\tTipo de sexo\tM = Masculino #F = Feminino  \n",
    "\n",
    "\n",
    "#CO_TURNO_GRADUACAO\tCódigo do turno de graduação\t\n",
    "#1 = Matutino\n",
    "#2 = Vespertino\n",
    "#3 = Integral\n",
    "#4 = Noturno\n",
    "\n",
    "#NT_GER\tNota bruta da prova - Media ponderada da formação geral (25%) e componente específico (75%). \n",
    "#(valor de 0 a 100)\t\n",
    "\n",
    "#QE_I01\tQual o seu estado civil?\t\n",
    "\n",
    "#A = Solteiro(a).\n",
    "#B = Casado(a).\n",
    "#C = Separado(a) judicialmente/divorciado(a).\n",
    "#D = Viúvo(a).\n",
    "#E = Outro.\n",
    "\n",
    "#QE_I02\tQual a sua cor ou raça?\t\n",
    "\n",
    "#A = Branca.\n",
    "#B = Preta.\n",
    "#C = Amarela.\n",
    "#D = Parda.\n",
    "#E = Indígena.\n",
    "#F = Não quero declarar.\n",
    "\n",
    "#QE_I08\t\n",
    "#Qual a renda total de sua família, incluindo seus rendimentos?\t\n",
    "\n",
    "#A = Até 1,5 salários mínimo (atÃ© R$ 1.405,50).\n",
    "#B = De 1,5 a 3 salários mínimos (R$ 1.405,51 a R$ 2.811,00).\n",
    "#C = De 3 a 4,5 salários mínimos (R$ 2.811,01 a R$ 4.216,50).\n",
    "#D = De 4,5 a 6 salários mínimos (R$ 4.216,51 a R$ 5.622,00).\n",
    "#E = De 6 a 10 salários mínimos (R$ 5. 622,01 a R$ 9.370,00).\n",
    "#F = De 10 a 30 salários mínimos (R$ 9.370,01 a R$ 28.110,00).\n",
    "#G = Acima de 30 salários mínimos (mais de R$ 28.110,00).\n",
    "\n",
    "#QE_I21\tAlguém em sua família concluiu um curso superior?\n",
    "\n",
    "#A = Sim.\n",
    "#B = Não.\n",
    "\n",
    "#QE_I23 Quantas horas por semana, aproximadamente, você dedicou aos estudos, excetuando as horas de aula?\n",
    "\n",
    "#A = Nenhuma, apenas assisto as aulas.\n",
    "#B = De uma a três.\n",
    "#C = De quatro a sete.\n",
    "#D = De oito a doze.\n",
    "#E = Mais de doze."
   ]
  },
  {
   "cell_type": "code",
   "execution_count": 318,
   "metadata": {},
   "outputs": [
    {
     "name": "stderr",
     "output_type": "stream",
     "text": [
      "G:\\ANACONDA\\lib\\site-packages\\IPython\\core\\interactiveshell.py:3063: DtypeWarning: Columns (29,31) have mixed types.Specify dtype option on import or set low_memory=False.\n",
      "  interactivity=interactivity, compiler=compiler, result=result)\n"
     ]
    }
   ],
   "source": [
    "#----------------------importando os dados---------------------------------------------------------\n",
    "import pandas as pd\n",
    "import numpy as np\n",
    "import plotly.graph_objects as go\n",
    "df = pd.read_csv(\"microdados_enade_2017.txt\",\n",
    "                 sep = \";\", header = 0, decimal=',',\n",
    "                 dtype = {\"DS_VT_ACE_OFG\": str,\"DS_VT_ACE_OCE\": str}\n",
    "                )"
   ]
  },
  {
   "cell_type": "code",
   "execution_count": 3,
   "metadata": {},
   "outputs": [
    {
     "data": {
      "text/html": [
       "<div>\n",
       "<style scoped>\n",
       "    .dataframe tbody tr th:only-of-type {\n",
       "        vertical-align: middle;\n",
       "    }\n",
       "\n",
       "    .dataframe tbody tr th {\n",
       "        vertical-align: top;\n",
       "    }\n",
       "\n",
       "    .dataframe thead th {\n",
       "        text-align: right;\n",
       "    }\n",
       "</style>\n",
       "<table border=\"1\" class=\"dataframe\">\n",
       "  <thead>\n",
       "    <tr style=\"text-align: right;\">\n",
       "      <th></th>\n",
       "      <th>NU_ANO</th>\n",
       "      <th>CO_IES</th>\n",
       "      <th>CO_CATEGAD</th>\n",
       "      <th>CO_ORGACAD</th>\n",
       "      <th>CO_GRUPO</th>\n",
       "      <th>CO_CURSO</th>\n",
       "      <th>CO_MODALIDADE</th>\n",
       "      <th>CO_MUNIC_CURSO</th>\n",
       "      <th>CO_UF_CURSO</th>\n",
       "      <th>CO_REGIAO_CURSO</th>\n",
       "      <th>...</th>\n",
       "      <th>QE_I72</th>\n",
       "      <th>QE_I73</th>\n",
       "      <th>QE_I74</th>\n",
       "      <th>QE_I75</th>\n",
       "      <th>QE_I76</th>\n",
       "      <th>QE_I77</th>\n",
       "      <th>QE_I78</th>\n",
       "      <th>QE_I79</th>\n",
       "      <th>QE_I80</th>\n",
       "      <th>QE_I81</th>\n",
       "    </tr>\n",
       "  </thead>\n",
       "  <tbody>\n",
       "    <tr>\n",
       "      <th>0</th>\n",
       "      <td>2017</td>\n",
       "      <td>1</td>\n",
       "      <td>1</td>\n",
       "      <td>10028</td>\n",
       "      <td>5710</td>\n",
       "      <td>3</td>\n",
       "      <td>1</td>\n",
       "      <td>5103403</td>\n",
       "      <td>51</td>\n",
       "      <td>5</td>\n",
       "      <td>...</td>\n",
       "      <td>NaN</td>\n",
       "      <td>NaN</td>\n",
       "      <td>NaN</td>\n",
       "      <td>NaN</td>\n",
       "      <td>NaN</td>\n",
       "      <td>NaN</td>\n",
       "      <td>NaN</td>\n",
       "      <td>NaN</td>\n",
       "      <td>NaN</td>\n",
       "      <td>NaN</td>\n",
       "    </tr>\n",
       "    <tr>\n",
       "      <th>1</th>\n",
       "      <td>2017</td>\n",
       "      <td>1</td>\n",
       "      <td>1</td>\n",
       "      <td>10028</td>\n",
       "      <td>5710</td>\n",
       "      <td>3</td>\n",
       "      <td>1</td>\n",
       "      <td>5103403</td>\n",
       "      <td>51</td>\n",
       "      <td>5</td>\n",
       "      <td>...</td>\n",
       "      <td>NaN</td>\n",
       "      <td>NaN</td>\n",
       "      <td>NaN</td>\n",
       "      <td>NaN</td>\n",
       "      <td>NaN</td>\n",
       "      <td>NaN</td>\n",
       "      <td>NaN</td>\n",
       "      <td>NaN</td>\n",
       "      <td>NaN</td>\n",
       "      <td>NaN</td>\n",
       "    </tr>\n",
       "    <tr>\n",
       "      <th>2</th>\n",
       "      <td>2017</td>\n",
       "      <td>1</td>\n",
       "      <td>1</td>\n",
       "      <td>10028</td>\n",
       "      <td>5710</td>\n",
       "      <td>3</td>\n",
       "      <td>1</td>\n",
       "      <td>5103403</td>\n",
       "      <td>51</td>\n",
       "      <td>5</td>\n",
       "      <td>...</td>\n",
       "      <td>NaN</td>\n",
       "      <td>NaN</td>\n",
       "      <td>NaN</td>\n",
       "      <td>NaN</td>\n",
       "      <td>NaN</td>\n",
       "      <td>NaN</td>\n",
       "      <td>NaN</td>\n",
       "      <td>NaN</td>\n",
       "      <td>NaN</td>\n",
       "      <td>NaN</td>\n",
       "    </tr>\n",
       "    <tr>\n",
       "      <th>3</th>\n",
       "      <td>2017</td>\n",
       "      <td>1</td>\n",
       "      <td>1</td>\n",
       "      <td>10028</td>\n",
       "      <td>5710</td>\n",
       "      <td>3</td>\n",
       "      <td>1</td>\n",
       "      <td>5103403</td>\n",
       "      <td>51</td>\n",
       "      <td>5</td>\n",
       "      <td>...</td>\n",
       "      <td>NaN</td>\n",
       "      <td>NaN</td>\n",
       "      <td>NaN</td>\n",
       "      <td>NaN</td>\n",
       "      <td>NaN</td>\n",
       "      <td>NaN</td>\n",
       "      <td>NaN</td>\n",
       "      <td>NaN</td>\n",
       "      <td>NaN</td>\n",
       "      <td>NaN</td>\n",
       "    </tr>\n",
       "    <tr>\n",
       "      <th>4</th>\n",
       "      <td>2017</td>\n",
       "      <td>1</td>\n",
       "      <td>1</td>\n",
       "      <td>10028</td>\n",
       "      <td>5710</td>\n",
       "      <td>3</td>\n",
       "      <td>1</td>\n",
       "      <td>5103403</td>\n",
       "      <td>51</td>\n",
       "      <td>5</td>\n",
       "      <td>...</td>\n",
       "      <td>NaN</td>\n",
       "      <td>NaN</td>\n",
       "      <td>NaN</td>\n",
       "      <td>NaN</td>\n",
       "      <td>NaN</td>\n",
       "      <td>NaN</td>\n",
       "      <td>NaN</td>\n",
       "      <td>NaN</td>\n",
       "      <td>NaN</td>\n",
       "      <td>NaN</td>\n",
       "    </tr>\n",
       "  </tbody>\n",
       "</table>\n",
       "<p>5 rows × 150 columns</p>\n",
       "</div>"
      ],
      "text/plain": [
       "   NU_ANO  CO_IES  CO_CATEGAD  CO_ORGACAD  CO_GRUPO  CO_CURSO  CO_MODALIDADE  \\\n",
       "0    2017       1           1       10028      5710         3              1   \n",
       "1    2017       1           1       10028      5710         3              1   \n",
       "2    2017       1           1       10028      5710         3              1   \n",
       "3    2017       1           1       10028      5710         3              1   \n",
       "4    2017       1           1       10028      5710         3              1   \n",
       "\n",
       "   CO_MUNIC_CURSO  CO_UF_CURSO  CO_REGIAO_CURSO  ...  QE_I72 QE_I73  QE_I74  \\\n",
       "0         5103403           51                5  ...     NaN    NaN     NaN   \n",
       "1         5103403           51                5  ...     NaN    NaN     NaN   \n",
       "2         5103403           51                5  ...     NaN    NaN     NaN   \n",
       "3         5103403           51                5  ...     NaN    NaN     NaN   \n",
       "4         5103403           51                5  ...     NaN    NaN     NaN   \n",
       "\n",
       "   QE_I75  QE_I76  QE_I77  QE_I78  QE_I79  QE_I80  QE_I81  \n",
       "0     NaN     NaN     NaN     NaN     NaN     NaN     NaN  \n",
       "1     NaN     NaN     NaN     NaN     NaN     NaN     NaN  \n",
       "2     NaN     NaN     NaN     NaN     NaN     NaN     NaN  \n",
       "3     NaN     NaN     NaN     NaN     NaN     NaN     NaN  \n",
       "4     NaN     NaN     NaN     NaN     NaN     NaN     NaN  \n",
       "\n",
       "[5 rows x 150 columns]"
      ]
     },
     "execution_count": 3,
     "metadata": {},
     "output_type": "execute_result"
    }
   ],
   "source": [
    "df.head()"
   ]
  },
  {
   "cell_type": "code",
   "execution_count": 4,
   "metadata": {},
   "outputs": [
    {
     "name": "stdout",
     "output_type": "stream",
     "text": [
      "Número de linhas:  537436 \n",
      "Número de colunas:  150 \n",
      "\n",
      "Contagem de tipos de coluna: \n",
      " float64    73\n",
      "object     56\n",
      "int64      21\n",
      "dtype: int64\n"
     ]
    }
   ],
   "source": [
    "print(\"Número de linhas: \",df.shape[0],\"\\nNúmero de colunas: \",df.shape[1], \"\\n\\nContagem de tipos de coluna:\",\"\\n\",df.dtypes.value_counts())"
   ]
  },
  {
   "cell_type": "code",
   "execution_count": 39,
   "metadata": {},
   "outputs": [
    {
     "name": "stdout",
     "output_type": "stream",
     "text": [
      "Número de linhas:  537436 \n",
      "Número de colunas:  13 \n",
      "\n",
      "Contagem de tipos de coluna: \n",
      " object     6\n",
      "float64    4\n",
      "int64      3\n",
      "dtype: int64\n"
     ]
    }
   ],
   "source": [
    "#----------------------feature engineering---------------------------------------------------------\n",
    "#Filtrando apenas as colunas que iremos utilizar\n",
    "df_f = df[[\"CO_GRUPO\", \"CO_REGIAO_CURSO\", \"NU_IDADE\", \"TP_SEXO\", \"CO_TURNO_GRADUACAO\", \"NT_GER\", \n",
    "           \"QE_I01\", \"QE_I02\",\"QE_I08\",\"QE_I21\",\"QE_I23\", \"NT_OBJ_FG\", \"NT_OBJ_CE\"]].copy()\n",
    "print(\"Número de linhas: \",df_f.shape[0],\"\\nNúmero de colunas: \",df_f.shape[1],\n",
    "      \"\\n\\nContagem de tipos de coluna:\",\"\\n\",df_f.dtypes.value_counts())"
   ]
  },
  {
   "cell_type": "code",
   "execution_count": 40,
   "metadata": {},
   "outputs": [
    {
     "data": {
      "text/plain": [
       "CO_GRUPO                int64\n",
       "CO_REGIAO_CURSO         int64\n",
       "NU_IDADE                int64\n",
       "TP_SEXO                object\n",
       "CO_TURNO_GRADUACAO    float64\n",
       "NT_GER                float64\n",
       "QE_I01                 object\n",
       "QE_I02                 object\n",
       "QE_I08                 object\n",
       "QE_I21                 object\n",
       "QE_I23                 object\n",
       "NT_OBJ_FG             float64\n",
       "NT_OBJ_CE             float64\n",
       "dtype: object"
      ]
     },
     "execution_count": 40,
     "metadata": {},
     "output_type": "execute_result"
    }
   ],
   "source": [
    "#tipo de cada coluna\n",
    "df_f.dtypes"
   ]
  },
  {
   "cell_type": "code",
   "execution_count": 41,
   "metadata": {},
   "outputs": [],
   "source": [
    "#dicionário:\n",
    "#QE_I01\tQual o seu estado civil?\t\n",
    "#CO_GRUPO Curso(Matemática, estatística, psicologia..)\n",
    "#CO_REGIAO_CURSO (Norte, nordeste, sul..)\n",
    "#TP_SEXO (Masculino/Feminino)"
   ]
  },
  {
   "cell_type": "code",
   "execution_count": 42,
   "metadata": {},
   "outputs": [
    {
     "name": "stdout",
     "output_type": "stream",
     "text": [
      "Abaixo os 20 grupos com maior concentração de estudantes:\n",
      "\n",
      "     Código do Grupo  Contagem de Estudantes\n",
      "0              2001                  132754\n",
      "1              5710                   52798\n",
      "2              3502                   34763\n",
      "3                21                   27026\n",
      "4              6208                   25714\n",
      "5              2402                   18531\n",
      "6              5902                   18422\n",
      "7              1602                   17381\n",
      "8              5806                   16370\n",
      "9               904                   15613\n",
      "10             4006                   14990\n",
      "11              702                   13410\n",
      "12               72                   12538\n",
      "13             3002                   11220\n",
      "14             4004                   10186\n",
      "15             6307                    8826\n",
      "16             6306                    8699\n",
      "17             1601                    7971\n",
      "18              905                    7963\n",
      "19             6008                    6921\n"
     ]
    }
   ],
   "source": [
    "#Agrupamento por curso\n",
    "df_fg = pd.DataFrame(df_f.CO_GRUPO.value_counts())\n",
    "df_fg.reset_index(level=0, inplace=True)\n",
    "df_fg = df_fg.rename(\n",
    "    columns = {\"index\":\"Código do Grupo\",\"CO_GRUPO\":\"Contagem de Estudantes\"}\n",
    ").sort_values(\n",
    "    \"Contagem de Estudantes\", axis=0, ascending=False\n",
    ")\n",
    "print(\"Abaixo os 20 grupos com maior concentração de estudantes:\\n\\n\",df_fg.head(20))"
   ]
  },
  {
   "cell_type": "code",
   "execution_count": 43,
   "metadata": {},
   "outputs": [],
   "source": [
    "#Filtrando os dados só para os profissionais de análise e desenvolvimento de sistemas (t.i)\n",
    "df_f = df_f[df_f[\"CO_GRUPO\"] == 72]"
   ]
  },
  {
   "cell_type": "code",
   "execution_count": 44,
   "metadata": {},
   "outputs": [
    {
     "name": "stdout",
     "output_type": "stream",
     "text": [
      "Solteiro(a)    7827\n",
      "Outro          2406\n",
      "Casado(a)      2087\n",
      "Separado(a)     207\n",
      "Viúvo(a)         11\n",
      "Name: ESTADO_CIVIL, dtype: int64 \n",
      "\n",
      " A    7827\n",
      "B    2087\n",
      "E     327\n",
      "C     207\n",
      "D      11\n",
      "Name: QE_I01, dtype: int64\n"
     ]
    }
   ],
   "source": [
    "#----------------------aplicando dicionario nas features---------------------\n",
    "def estado_civil_str(estado_civil):\n",
    "    if estado_civil == \"A\":\n",
    "        return \"Solteiro(a)\"\n",
    "    elif estado_civil == \"B\":\n",
    "        return \"Casado(a)\"\n",
    "    elif estado_civil == \"C\":\n",
    "        return \"Separado(a)\"\n",
    "    elif estado_civil == \"D\":\n",
    "        return \"Viúvo(a)\"\n",
    "    else: \n",
    "        return \"Outro\"\n",
    "    \n",
    "df_f[\"ESTADO_CIVIL\"] = df_f[\"QE_I01\"].apply(estado_civil_str)\n",
    "print(df_f[\"ESTADO_CIVIL\"].value_counts(),\"\\n\\n\",df_f[\"QE_I01\"].value_counts())"
   ]
  },
  {
   "cell_type": "code",
   "execution_count": 45,
   "metadata": {},
   "outputs": [
    {
     "name": "stdout",
     "output_type": "stream",
     "text": [
      "Sudeste         7538\n",
      "Sul             2583\n",
      "Nordeste        1117\n",
      "Centro-Oeste     911\n",
      "Norte            389\n",
      "Name: REGIAO, dtype: int64 \n",
      "\n",
      " 3    7538\n",
      "4    2583\n",
      "2    1117\n",
      "5     911\n",
      "1     389\n",
      "Name: CO_REGIAO_CURSO, dtype: int64\n"
     ]
    }
   ],
   "source": [
    "def regiao_str(cod_regiao):\n",
    "    if cod_regiao == 1:\n",
    "        return \"Norte\"\n",
    "    elif cod_regiao == 2:\n",
    "        return \"Nordeste\"\n",
    "    elif cod_regiao == 3:\n",
    "        return \"Sudeste\"\n",
    "    elif cod_regiao == 4:\n",
    "        return \"Sul\"\n",
    "    elif cod_regiao == 5:\n",
    "        return \"Centro-Oeste\"\n",
    "    else: \n",
    "        return \"CODIGO INVALIDO\"\n",
    "    \n",
    "df_f[\"REGIAO\"] = df_f[\"CO_REGIAO_CURSO\"].apply(regiao_str)\n",
    "print(df_f[\"REGIAO\"].value_counts(),\"\\n\\n\",df_f[\"CO_REGIAO_CURSO\"].value_counts())"
   ]
  },
  {
   "cell_type": "code",
   "execution_count": 46,
   "metadata": {},
   "outputs": [
    {
     "name": "stdout",
     "output_type": "stream",
     "text": [
      "Masculino    10834\n",
      "Feminino      1704\n",
      "Name: SEXO, dtype: int64 \n",
      "\n",
      " M    10834\n",
      "F     1704\n",
      "Name: TP_SEXO, dtype: int64\n"
     ]
    }
   ],
   "source": [
    "def sexo_str(cod_sexo):\n",
    "    if cod_sexo == \"M\":\n",
    "        return \"Masculino\"\n",
    "    elif cod_sexo == \"F\":\n",
    "        return \"Feminino\"\n",
    "    else: \n",
    "        return \"CODIGO INVALIDO\"\n",
    "    \n",
    "df_f[\"SEXO\"] = df_f[\"TP_SEXO\"].apply(sexo_str)\n",
    "print(df_f[\"SEXO\"].value_counts(),\"\\n\\n\",df_f[\"TP_SEXO\"].value_counts())"
   ]
  },
  {
   "cell_type": "code",
   "execution_count": 47,
   "metadata": {},
   "outputs": [
    {
     "name": "stdout",
     "output_type": "stream",
     "text": [
      "De uma a três                       4496\n",
      "De quatro a sete                    2908\n",
      "CODIGO INVALIDO                     2079\n",
      "De oito a doze                      1119\n",
      "Mais de doze                        1060\n",
      "Nenhuma, apenas assisto às aulas     876\n",
      "Name: HESTUDOS, dtype: int64 \n",
      "\n",
      " B    4496\n",
      "C    2908\n",
      "D    1119\n",
      "E    1060\n",
      "A     876\n",
      "Name: QE_I23, dtype: int64\n"
     ]
    }
   ],
   "source": [
    "def hestudo_str(hs_estudo):\n",
    "    if hs_estudo == \"A\":\n",
    "        return \"Nenhuma, apenas assisto às aulas\"\n",
    "    elif hs_estudo == \"B\":\n",
    "        return \"De uma a três\"\n",
    "    elif hs_estudo == \"C\":\n",
    "        return \"De quatro a sete\"\n",
    "    elif hs_estudo == \"D\":\n",
    "        return \"De oito a doze\"\n",
    "    elif hs_estudo == \"E\":\n",
    "        return \"Mais de doze\"\n",
    "    else: \n",
    "        return \"CODIGO INVALIDO\"\n",
    "    \n",
    "df_f[\"HESTUDOS\"] = df_f[\"QE_I23\"].apply(hestudo_str)\n",
    "print(df_f[\"HESTUDOS\"].value_counts(),\"\\n\\n\",df_f[\"QE_I23\"].value_counts())"
   ]
  },
  {
   "cell_type": "code",
   "execution_count": 48,
   "metadata": {},
   "outputs": [
    {
     "data": {
      "text/plain": [
       "array([nan], dtype=object)"
      ]
     },
     "execution_count": 48,
     "metadata": {},
     "output_type": "execute_result"
    }
   ],
   "source": [
    "#Investigando o \"CODIGO INVALIDO\", são linhas com Nan no campo\n",
    "df_f[df_f[\"HESTUDOS\"]==\"CODIGO INVALIDO\"][\"QE_I23\"].unique()"
   ]
  },
  {
   "cell_type": "code",
   "execution_count": 174,
   "metadata": {},
   "outputs": [
    {
     "data": {
      "text/html": [
       "<div>\n",
       "<style scoped>\n",
       "    .dataframe tbody tr th:only-of-type {\n",
       "        vertical-align: middle;\n",
       "    }\n",
       "\n",
       "    .dataframe tbody tr th {\n",
       "        vertical-align: top;\n",
       "    }\n",
       "\n",
       "    .dataframe thead th {\n",
       "        text-align: right;\n",
       "    }\n",
       "</style>\n",
       "<table border=\"1\" class=\"dataframe\">\n",
       "  <thead>\n",
       "    <tr style=\"text-align: right;\">\n",
       "      <th></th>\n",
       "      <th>CO_GRUPO</th>\n",
       "      <th>NU_IDADE</th>\n",
       "      <th>CO_TURNO_GRADUACAO</th>\n",
       "      <th>NT_GER</th>\n",
       "      <th>QE_I02</th>\n",
       "      <th>QE_I08</th>\n",
       "      <th>QE_I21</th>\n",
       "      <th>NT_OBJ_FG</th>\n",
       "      <th>NT_OBJ_CE</th>\n",
       "      <th>ESTADO_CIVIL</th>\n",
       "      <th>REGIAO</th>\n",
       "      <th>SEXO</th>\n",
       "      <th>HESTUDOS</th>\n",
       "    </tr>\n",
       "  </thead>\n",
       "  <tbody>\n",
       "    <tr>\n",
       "      <th>0</th>\n",
       "      <td>72</td>\n",
       "      <td>21</td>\n",
       "      <td>1.0</td>\n",
       "      <td>21.7</td>\n",
       "      <td>D</td>\n",
       "      <td>A</td>\n",
       "      <td>B</td>\n",
       "      <td>25.0</td>\n",
       "      <td>15.0</td>\n",
       "      <td>Solteiro(a)</td>\n",
       "      <td>Sudeste</td>\n",
       "      <td>Feminino</td>\n",
       "      <td>De quatro a sete</td>\n",
       "    </tr>\n",
       "    <tr>\n",
       "      <th>1</th>\n",
       "      <td>72</td>\n",
       "      <td>24</td>\n",
       "      <td>1.0</td>\n",
       "      <td>29.7</td>\n",
       "      <td>B</td>\n",
       "      <td>C</td>\n",
       "      <td>A</td>\n",
       "      <td>62.5</td>\n",
       "      <td>20.0</td>\n",
       "      <td>Solteiro(a)</td>\n",
       "      <td>Sudeste</td>\n",
       "      <td>Feminino</td>\n",
       "      <td>De uma a três</td>\n",
       "    </tr>\n",
       "    <tr>\n",
       "      <th>2</th>\n",
       "      <td>72</td>\n",
       "      <td>30</td>\n",
       "      <td>4.0</td>\n",
       "      <td>35.3</td>\n",
       "      <td>D</td>\n",
       "      <td>A</td>\n",
       "      <td>B</td>\n",
       "      <td>37.5</td>\n",
       "      <td>35.0</td>\n",
       "      <td>Viúvo(a)</td>\n",
       "      <td>Sudeste</td>\n",
       "      <td>Masculino</td>\n",
       "      <td>De oito a doze</td>\n",
       "    </tr>\n",
       "    <tr>\n",
       "      <th>3</th>\n",
       "      <td>72</td>\n",
       "      <td>23</td>\n",
       "      <td>1.0</td>\n",
       "      <td>13.1</td>\n",
       "      <td>D</td>\n",
       "      <td>F</td>\n",
       "      <td>B</td>\n",
       "      <td>25.0</td>\n",
       "      <td>10.0</td>\n",
       "      <td>Solteiro(a)</td>\n",
       "      <td>Sudeste</td>\n",
       "      <td>Masculino</td>\n",
       "      <td>De quatro a sete</td>\n",
       "    </tr>\n",
       "    <tr>\n",
       "      <th>4</th>\n",
       "      <td>72</td>\n",
       "      <td>20</td>\n",
       "      <td>1.0</td>\n",
       "      <td>27.5</td>\n",
       "      <td>A</td>\n",
       "      <td>B</td>\n",
       "      <td>A</td>\n",
       "      <td>37.5</td>\n",
       "      <td>20.0</td>\n",
       "      <td>Solteiro(a)</td>\n",
       "      <td>Sudeste</td>\n",
       "      <td>Masculino</td>\n",
       "      <td>De uma a três</td>\n",
       "    </tr>\n",
       "  </tbody>\n",
       "</table>\n",
       "</div>"
      ],
      "text/plain": [
       "   CO_GRUPO  NU_IDADE  CO_TURNO_GRADUACAO  NT_GER QE_I02 QE_I08 QE_I21  \\\n",
       "0        72        21                 1.0    21.7      D      A      B   \n",
       "1        72        24                 1.0    29.7      B      C      A   \n",
       "2        72        30                 4.0    35.3      D      A      B   \n",
       "3        72        23                 1.0    13.1      D      F      B   \n",
       "4        72        20                 1.0    27.5      A      B      A   \n",
       "\n",
       "   NT_OBJ_FG  NT_OBJ_CE ESTADO_CIVIL   REGIAO       SEXO          HESTUDOS  \n",
       "0       25.0       15.0  Solteiro(a)  Sudeste   Feminino  De quatro a sete  \n",
       "1       62.5       20.0  Solteiro(a)  Sudeste   Feminino     De uma a três  \n",
       "2       37.5       35.0     Viúvo(a)  Sudeste  Masculino    De oito a doze  \n",
       "3       25.0       10.0  Solteiro(a)  Sudeste  Masculino  De quatro a sete  \n",
       "4       37.5       20.0  Solteiro(a)  Sudeste  Masculino     De uma a três  "
      ]
     },
     "execution_count": 174,
     "metadata": {},
     "output_type": "execute_result"
    }
   ],
   "source": [
    "df_t = df_f.drop([\"QE_I01\",\"CO_REGIAO_CURSO\",\"TP_SEXO\",\"QE_I23\"], axis=1)\n",
    "df_t.reset_index(inplace = True, drop = True)\n",
    "df_t.head()"
   ]
  },
  {
   "cell_type": "code",
   "execution_count": 175,
   "metadata": {},
   "outputs": [
    {
     "name": "stdout",
     "output_type": "stream",
     "text": [
      "Número de linhas:  12538 \n",
      "Número de colunas:  13 \n",
      "\n",
      "Contagem de tipos de coluna: \n",
      " object     7\n",
      "float64    4\n",
      "int64      2\n",
      "dtype: int64 \n",
      "\n",
      " CO_GRUPO                int64\n",
      "NU_IDADE                int64\n",
      "CO_TURNO_GRADUACAO    float64\n",
      "NT_GER                float64\n",
      "QE_I02                 object\n",
      "QE_I08                 object\n",
      "QE_I21                 object\n",
      "NT_OBJ_FG             float64\n",
      "NT_OBJ_CE             float64\n",
      "ESTADO_CIVIL           object\n",
      "REGIAO                 object\n",
      "SEXO                   object\n",
      "HESTUDOS               object\n",
      "dtype: object\n"
     ]
    }
   ],
   "source": [
    "print(\"Número de linhas: \",df_t.shape[0],\"\\nNúmero de colunas: \",df_t.shape[1],\n",
    "      \"\\n\\nContagem de tipos de coluna:\",\"\\n\",df_t.dtypes.value_counts(),\"\\n\\n\", df_t.dtypes)"
   ]
  },
  {
   "cell_type": "code",
   "execution_count": 176,
   "metadata": {},
   "outputs": [
    {
     "data": {
      "text/html": [
       "<div>\n",
       "<style scoped>\n",
       "    .dataframe tbody tr th:only-of-type {\n",
       "        vertical-align: middle;\n",
       "    }\n",
       "\n",
       "    .dataframe tbody tr th {\n",
       "        vertical-align: top;\n",
       "    }\n",
       "\n",
       "    .dataframe thead th {\n",
       "        text-align: right;\n",
       "    }\n",
       "</style>\n",
       "<table border=\"1\" class=\"dataframe\">\n",
       "  <thead>\n",
       "    <tr style=\"text-align: right;\">\n",
       "      <th></th>\n",
       "      <th>CO_GRUPO</th>\n",
       "      <th>NU_IDADE</th>\n",
       "      <th>CO_TURNO_GRADUACAO</th>\n",
       "      <th>NT_GER</th>\n",
       "      <th>NT_OBJ_FG</th>\n",
       "      <th>NT_OBJ_CE</th>\n",
       "    </tr>\n",
       "  </thead>\n",
       "  <tbody>\n",
       "    <tr>\n",
       "      <th>count</th>\n",
       "      <td>12538.0</td>\n",
       "      <td>12538.000000</td>\n",
       "      <td>12538.000000</td>\n",
       "      <td>9743.000000</td>\n",
       "      <td>9743.000000</td>\n",
       "      <td>9743.000000</td>\n",
       "    </tr>\n",
       "    <tr>\n",
       "      <th>mean</th>\n",
       "      <td>72.0</td>\n",
       "      <td>27.502951</td>\n",
       "      <td>3.359627</td>\n",
       "      <td>40.172842</td>\n",
       "      <td>49.187878</td>\n",
       "      <td>42.037360</td>\n",
       "    </tr>\n",
       "    <tr>\n",
       "      <th>std</th>\n",
       "      <td>0.0</td>\n",
       "      <td>7.059713</td>\n",
       "      <td>1.075793</td>\n",
       "      <td>12.910787</td>\n",
       "      <td>20.844402</td>\n",
       "      <td>15.773229</td>\n",
       "    </tr>\n",
       "    <tr>\n",
       "      <th>min</th>\n",
       "      <td>72.0</td>\n",
       "      <td>18.000000</td>\n",
       "      <td>1.000000</td>\n",
       "      <td>0.000000</td>\n",
       "      <td>0.000000</td>\n",
       "      <td>0.000000</td>\n",
       "    </tr>\n",
       "    <tr>\n",
       "      <th>25%</th>\n",
       "      <td>72.0</td>\n",
       "      <td>22.000000</td>\n",
       "      <td>3.000000</td>\n",
       "      <td>31.100000</td>\n",
       "      <td>37.500000</td>\n",
       "      <td>30.000000</td>\n",
       "    </tr>\n",
       "    <tr>\n",
       "      <th>50%</th>\n",
       "      <td>72.0</td>\n",
       "      <td>26.000000</td>\n",
       "      <td>4.000000</td>\n",
       "      <td>39.600000</td>\n",
       "      <td>50.000000</td>\n",
       "      <td>40.000000</td>\n",
       "    </tr>\n",
       "    <tr>\n",
       "      <th>75%</th>\n",
       "      <td>72.0</td>\n",
       "      <td>31.000000</td>\n",
       "      <td>4.000000</td>\n",
       "      <td>48.900000</td>\n",
       "      <td>62.500000</td>\n",
       "      <td>55.000000</td>\n",
       "    </tr>\n",
       "    <tr>\n",
       "      <th>max</th>\n",
       "      <td>72.0</td>\n",
       "      <td>73.000000</td>\n",
       "      <td>4.000000</td>\n",
       "      <td>90.600000</td>\n",
       "      <td>100.000000</td>\n",
       "      <td>95.000000</td>\n",
       "    </tr>\n",
       "  </tbody>\n",
       "</table>\n",
       "</div>"
      ],
      "text/plain": [
       "       CO_GRUPO      NU_IDADE  CO_TURNO_GRADUACAO       NT_GER    NT_OBJ_FG  \\\n",
       "count   12538.0  12538.000000        12538.000000  9743.000000  9743.000000   \n",
       "mean       72.0     27.502951            3.359627    40.172842    49.187878   \n",
       "std         0.0      7.059713            1.075793    12.910787    20.844402   \n",
       "min        72.0     18.000000            1.000000     0.000000     0.000000   \n",
       "25%        72.0     22.000000            3.000000    31.100000    37.500000   \n",
       "50%        72.0     26.000000            4.000000    39.600000    50.000000   \n",
       "75%        72.0     31.000000            4.000000    48.900000    62.500000   \n",
       "max        72.0     73.000000            4.000000    90.600000   100.000000   \n",
       "\n",
       "         NT_OBJ_CE  \n",
       "count  9743.000000  \n",
       "mean     42.037360  \n",
       "std      15.773229  \n",
       "min       0.000000  \n",
       "25%      30.000000  \n",
       "50%      40.000000  \n",
       "75%      55.000000  \n",
       "max      95.000000  "
      ]
     },
     "execution_count": 176,
     "metadata": {},
     "output_type": "execute_result"
    }
   ],
   "source": [
    "#----------------------analise descritiva---------------------------------------------------------\n",
    "df_t.describe()"
   ]
  },
  {
   "cell_type": "code",
   "execution_count": 177,
   "metadata": {},
   "outputs": [
    {
     "data": {
      "text/html": [
       "<div>\n",
       "<style scoped>\n",
       "    .dataframe tbody tr th:only-of-type {\n",
       "        vertical-align: middle;\n",
       "    }\n",
       "\n",
       "    .dataframe tbody tr th {\n",
       "        vertical-align: top;\n",
       "    }\n",
       "\n",
       "    .dataframe thead th {\n",
       "        text-align: right;\n",
       "    }\n",
       "</style>\n",
       "<table border=\"1\" class=\"dataframe\">\n",
       "  <thead>\n",
       "    <tr style=\"text-align: right;\">\n",
       "      <th></th>\n",
       "      <th>ESTADO_CIVIL</th>\n",
       "      <th>REGIAO</th>\n",
       "      <th>SEXO</th>\n",
       "      <th>HESTUDOS</th>\n",
       "    </tr>\n",
       "  </thead>\n",
       "  <tbody>\n",
       "    <tr>\n",
       "      <th>count</th>\n",
       "      <td>12538</td>\n",
       "      <td>12538</td>\n",
       "      <td>12538</td>\n",
       "      <td>12538</td>\n",
       "    </tr>\n",
       "    <tr>\n",
       "      <th>unique</th>\n",
       "      <td>5</td>\n",
       "      <td>5</td>\n",
       "      <td>2</td>\n",
       "      <td>6</td>\n",
       "    </tr>\n",
       "    <tr>\n",
       "      <th>top</th>\n",
       "      <td>Solteiro(a)</td>\n",
       "      <td>Sudeste</td>\n",
       "      <td>Masculino</td>\n",
       "      <td>De uma a três</td>\n",
       "    </tr>\n",
       "    <tr>\n",
       "      <th>freq</th>\n",
       "      <td>7827</td>\n",
       "      <td>7538</td>\n",
       "      <td>10834</td>\n",
       "      <td>4496</td>\n",
       "    </tr>\n",
       "  </tbody>\n",
       "</table>\n",
       "</div>"
      ],
      "text/plain": [
       "       ESTADO_CIVIL   REGIAO       SEXO       HESTUDOS\n",
       "count         12538    12538      12538          12538\n",
       "unique            5        5          2              6\n",
       "top     Solteiro(a)  Sudeste  Masculino  De uma a três\n",
       "freq           7827     7538      10834           4496"
      ]
     },
     "execution_count": 177,
     "metadata": {},
     "output_type": "execute_result"
    }
   ],
   "source": [
    "df_t[[\"ESTADO_CIVIL\",\"REGIAO\",\"SEXO\",\"HESTUDOS\"]].describe()"
   ]
  },
  {
   "cell_type": "code",
   "execution_count": 178,
   "metadata": {},
   "outputs": [
    {
     "name": "stdout",
     "output_type": "stream",
     "text": [
      "Solteiro(a)    7827\n",
      "Outro          2406\n",
      "Casado(a)      2087\n",
      "Separado(a)     207\n",
      "Viúvo(a)         11\n",
      "Name: ESTADO_CIVIL, dtype: int64 \n",
      "\n",
      " Sudeste         7538\n",
      "Sul             2583\n",
      "Nordeste        1117\n",
      "Centro-Oeste     911\n",
      "Norte            389\n",
      "Name: REGIAO, dtype: int64 \n",
      "\n",
      " Masculino    10834\n",
      "Feminino      1704\n",
      "Name: SEXO, dtype: int64 \n",
      "\n",
      " De uma a três                       4496\n",
      "De quatro a sete                    2908\n",
      "CODIGO INVALIDO                     2079\n",
      "De oito a doze                      1119\n",
      "Mais de doze                        1060\n",
      "Nenhuma, apenas assisto às aulas     876\n",
      "Name: HESTUDOS, dtype: int64\n"
     ]
    }
   ],
   "source": [
    "print(df_t[\"ESTADO_CIVIL\"].value_counts(),\"\\n\\n\",df_t[\"REGIAO\"].value_counts(),\n",
    "      \"\\n\\n\",df_t[\"SEXO\"].value_counts(),\"\\n\\n\",df_t[\"HESTUDOS\"].value_counts())"
   ]
  },
  {
   "cell_type": "code",
   "execution_count": 179,
   "metadata": {},
   "outputs": [
    {
     "name": "stdout",
     "output_type": "stream",
     "text": [
      "Sudeste         7538\n",
      "Sul             2583\n",
      "Nordeste        1117\n",
      "Centro-Oeste     911\n",
      "Norte            389\n",
      "Name: REGIAO, dtype: int64 \n",
      "\n",
      " Sudeste         60.121231\n",
      "Sul             20.601372\n",
      "Nordeste         8.908917\n",
      "Centro-Oeste     7.265912\n",
      "Norte            3.102568\n",
      "Name: REGIAO, dtype: float64\n"
     ]
    }
   ],
   "source": [
    "#frequencia simples e frequencia relativa simples das distintas regioes(%)\n",
    "print(df_t[\"REGIAO\"].value_counts(),\"\\n\\n\",\n",
    "(df_t[\"REGIAO\"].value_counts()/df_t[\"REGIAO\"].value_counts().sum())*100)"
   ]
  },
  {
   "cell_type": "code",
   "execution_count": 180,
   "metadata": {},
   "outputs": [
    {
     "name": "stdout",
     "output_type": "stream",
     "text": [
      "Solteiro(a)    7827\n",
      "Outro          2406\n",
      "Casado(a)      2087\n",
      "Separado(a)     207\n",
      "Viúvo(a)         11\n",
      "Name: ESTADO_CIVIL, dtype: int64 \n",
      "\n",
      " Solteiro(a)    62.426224\n",
      "Outro          19.189663\n",
      "Casado(a)      16.645398\n",
      "Separado(a)     1.650981\n",
      "Viúvo(a)        0.087733\n",
      "Name: ESTADO_CIVIL, dtype: float64\n"
     ]
    }
   ],
   "source": [
    "#frequencia simples e frequencia relativa simples das distintas regioes(%)\n",
    "print(df_t[\"ESTADO_CIVIL\"].value_counts(),\"\\n\\n\",\n",
    "(df_t[\"ESTADO_CIVIL\"].value_counts()/df_t[\"ESTADO_CIVIL\"].value_counts().sum())*100)"
   ]
  },
  {
   "cell_type": "code",
   "execution_count": 181,
   "metadata": {},
   "outputs": [
    {
     "data": {
      "text/html": [
       "<div>\n",
       "<style scoped>\n",
       "    .dataframe tbody tr th:only-of-type {\n",
       "        vertical-align: middle;\n",
       "    }\n",
       "\n",
       "    .dataframe tbody tr th {\n",
       "        vertical-align: top;\n",
       "    }\n",
       "\n",
       "    .dataframe thead tr th {\n",
       "        text-align: left;\n",
       "    }\n",
       "\n",
       "    .dataframe thead tr:last-of-type th {\n",
       "        text-align: right;\n",
       "    }\n",
       "</style>\n",
       "<table border=\"1\" class=\"dataframe\">\n",
       "  <thead>\n",
       "    <tr>\n",
       "      <th></th>\n",
       "      <th colspan=\"8\" halign=\"left\">NT_OBJ_FG</th>\n",
       "    </tr>\n",
       "    <tr>\n",
       "      <th></th>\n",
       "      <th>count</th>\n",
       "      <th>mean</th>\n",
       "      <th>std</th>\n",
       "      <th>min</th>\n",
       "      <th>25%</th>\n",
       "      <th>50%</th>\n",
       "      <th>75%</th>\n",
       "      <th>max</th>\n",
       "    </tr>\n",
       "    <tr>\n",
       "      <th>ESTADO_CIVIL</th>\n",
       "      <th></th>\n",
       "      <th></th>\n",
       "      <th></th>\n",
       "      <th></th>\n",
       "      <th></th>\n",
       "      <th></th>\n",
       "      <th></th>\n",
       "      <th></th>\n",
       "    </tr>\n",
       "  </thead>\n",
       "  <tbody>\n",
       "    <tr>\n",
       "      <th>Casado(a)</th>\n",
       "      <td>1850.0</td>\n",
       "      <td>50.229730</td>\n",
       "      <td>21.803053</td>\n",
       "      <td>0.0</td>\n",
       "      <td>37.50</td>\n",
       "      <td>50.0</td>\n",
       "      <td>62.50</td>\n",
       "      <td>100.0</td>\n",
       "    </tr>\n",
       "    <tr>\n",
       "      <th>Outro</th>\n",
       "      <td>410.0</td>\n",
       "      <td>48.262195</td>\n",
       "      <td>21.827035</td>\n",
       "      <td>0.0</td>\n",
       "      <td>37.50</td>\n",
       "      <td>50.0</td>\n",
       "      <td>62.50</td>\n",
       "      <td>100.0</td>\n",
       "    </tr>\n",
       "    <tr>\n",
       "      <th>Separado(a)</th>\n",
       "      <td>183.0</td>\n",
       "      <td>50.409836</td>\n",
       "      <td>23.252881</td>\n",
       "      <td>0.0</td>\n",
       "      <td>37.50</td>\n",
       "      <td>50.0</td>\n",
       "      <td>62.50</td>\n",
       "      <td>100.0</td>\n",
       "    </tr>\n",
       "    <tr>\n",
       "      <th>Solteiro(a)</th>\n",
       "      <td>7289.0</td>\n",
       "      <td>48.955618</td>\n",
       "      <td>20.470860</td>\n",
       "      <td>0.0</td>\n",
       "      <td>37.50</td>\n",
       "      <td>50.0</td>\n",
       "      <td>62.50</td>\n",
       "      <td>100.0</td>\n",
       "    </tr>\n",
       "    <tr>\n",
       "      <th>Viúvo(a)</th>\n",
       "      <td>11.0</td>\n",
       "      <td>42.045455</td>\n",
       "      <td>17.022712</td>\n",
       "      <td>12.5</td>\n",
       "      <td>31.25</td>\n",
       "      <td>37.5</td>\n",
       "      <td>56.25</td>\n",
       "      <td>62.5</td>\n",
       "    </tr>\n",
       "  </tbody>\n",
       "</table>\n",
       "</div>"
      ],
      "text/plain": [
       "             NT_OBJ_FG                                                       \n",
       "                 count       mean        std   min    25%   50%    75%    max\n",
       "ESTADO_CIVIL                                                                 \n",
       "Casado(a)       1850.0  50.229730  21.803053   0.0  37.50  50.0  62.50  100.0\n",
       "Outro            410.0  48.262195  21.827035   0.0  37.50  50.0  62.50  100.0\n",
       "Separado(a)      183.0  50.409836  23.252881   0.0  37.50  50.0  62.50  100.0\n",
       "Solteiro(a)     7289.0  48.955618  20.470860   0.0  37.50  50.0  62.50  100.0\n",
       "Viúvo(a)          11.0  42.045455  17.022712  12.5  31.25  37.5  56.25   62.5"
      ]
     },
     "execution_count": 181,
     "metadata": {},
     "output_type": "execute_result"
    }
   ],
   "source": [
    "#distribuicao das notas por estado civil\n",
    "df_t[[\"ESTADO_CIVIL\",\"NT_OBJ_FG\"]].groupby(df_t[\"ESTADO_CIVIL\"]).describe()"
   ]
  },
  {
   "cell_type": "code",
   "execution_count": 182,
   "metadata": {},
   "outputs": [
    {
     "data": {
      "text/plain": [
       "CO_GRUPO                 0\n",
       "NU_IDADE                 0\n",
       "CO_TURNO_GRADUACAO       0\n",
       "NT_GER                2795\n",
       "QE_I02                2079\n",
       "QE_I08                2079\n",
       "QE_I21                2079\n",
       "NT_OBJ_FG             2795\n",
       "NT_OBJ_CE             2795\n",
       "ESTADO_CIVIL             0\n",
       "REGIAO                   0\n",
       "SEXO                     0\n",
       "HESTUDOS                 0\n",
       "dtype: int64"
      ]
     },
     "execution_count": 182,
     "metadata": {},
     "output_type": "execute_result"
    }
   ],
   "source": [
    "df_t.isnull().sum()"
   ]
  },
  {
   "cell_type": "code",
   "execution_count": 183,
   "metadata": {},
   "outputs": [
    {
     "data": {
      "text/plain": [
       "CO_GRUPO              0\n",
       "NU_IDADE              0\n",
       "CO_TURNO_GRADUACAO    0\n",
       "NT_GER                0\n",
       "QE_I02                0\n",
       "QE_I08                0\n",
       "QE_I21                0\n",
       "NT_OBJ_FG             0\n",
       "NT_OBJ_CE             0\n",
       "ESTADO_CIVIL          0\n",
       "REGIAO                0\n",
       "SEXO                  0\n",
       "HESTUDOS              0\n",
       "dtype: int64"
      ]
     },
     "execution_count": 183,
     "metadata": {},
     "output_type": "execute_result"
    }
   ],
   "source": [
    "#excluindo linhas com valores nulos\n",
    "df_t = df_t.dropna(axis=0, how='any')\n",
    "df_t.isnull().sum()"
   ]
  },
  {
   "cell_type": "code",
   "execution_count": 184,
   "metadata": {},
   "outputs": [
    {
     "name": "stdout",
     "output_type": "stream",
     "text": [
      "2902 \n",
      "\n",
      " 23.145637262721326\n"
     ]
    }
   ],
   "source": [
    "#quantas linhas foram excluidas? %?\n",
    "print(df_f.shape[0]-df_t.shape[0],\"\\n\\n\",\n",
    "(df_f.shape[0]-df_t.shape[0])/df_f.shape[0]*100)"
   ]
  },
  {
   "cell_type": "code",
   "execution_count": 185,
   "metadata": {},
   "outputs": [
    {
     "data": {
      "text/plain": [
       "count    9636.000000\n",
       "mean       49.229452\n",
       "std        20.826908\n",
       "min         0.000000\n",
       "25%        37.500000\n",
       "50%        50.000000\n",
       "75%        62.500000\n",
       "max       100.000000\n",
       "Name: NT_OBJ_FG, dtype: float64"
      ]
     },
     "execution_count": 185,
     "metadata": {},
     "output_type": "execute_result"
    }
   ],
   "source": [
    "df_t[\"NT_OBJ_FG\"].describe()"
   ]
  },
  {
   "cell_type": "code",
   "execution_count": 224,
   "metadata": {},
   "outputs": [
    {
     "name": "stdout",
     "output_type": "stream",
     "text": [
      "mediana:  50\n"
     ]
    }
   ],
   "source": [
    "#MEDIANA MANUAL\n",
    "el_md = df_t[\"NT_OBJ_FG\"].count()/2\n",
    "el_md1 = pd.DataFrame(df_t[\"NT_OBJ_FG\"].sort_values())[(int(el_md)-1):int(el_md)].values\n",
    "el_md2 = pd.DataFrame(df_t[\"NT_OBJ_FG\"].sort_values())[(int(el_md)):int(el_md)+1].values\n",
    "print(\"mediana: \",int(((el_md1+el_md2)/2)))"
   ]
  },
  {
   "cell_type": "code",
   "execution_count": 310,
   "metadata": {},
   "outputs": [
    {
     "name": "stdout",
     "output_type": "stream",
     "text": [
      "moda:  50\n"
     ]
    }
   ],
   "source": [
    "tbl_moda = pd.DataFrame(df_t[\"NT_OBJ_FG\"].value_counts()).sort_values(\n",
    "    \"NT_OBJ_FG\", axis=0, ascending=False\n",
    ")\n",
    "tbl_moda.reset_index(level=0, inplace=True)\n",
    "tbl_moda = tbl_moda.rename(\n",
    "    columns = {\"index\":\"Nota\",\n",
    "               \"NT_OBJ_FG\":\"Contagem de Estudantes\"})\n",
    "moda = tbl_moda[\"Nota\"][0:1].values\n",
    "print(\"moda: \",int(moda))"
   ]
  },
  {
   "cell_type": "code",
   "execution_count": 232,
   "metadata": {
    "scrolled": true
   },
   "outputs": [
    {
     "name": "stdout",
     "output_type": "stream",
     "text": [
      "50.0     2219\n",
      "37.5     1906\n",
      "62.5     1858\n",
      "25.0     1233\n",
      "75.0     1143\n",
      "12.5      525\n",
      "87.5      463\n",
      "0.0       167\n",
      "100.0     122\n",
      "Name: NT_OBJ_FG, dtype: int64 \n",
      "\n",
      " 50.0     23.028227\n",
      "37.5     19.779992\n",
      "62.5     19.281860\n",
      "25.0     12.795766\n",
      "75.0     11.861768\n",
      "12.5      5.448319\n",
      "87.5      4.804898\n",
      "0.0       1.733084\n",
      "100.0     1.266086\n",
      "Name: NT_OBJ_FG, dtype: float64\n"
     ]
    }
   ],
   "source": [
    "#frequencia simples e frequencia relativa simples das distintas regioes(%)\n",
    "print(df_t[\"NT_OBJ_FG\"].value_counts(),\"\\n\\n\",\n",
    "(df_t[\"NT_OBJ_FG\"].value_counts()/df_t[\"NT_OBJ_FG\"].value_counts().sum())*100)"
   ]
  },
  {
   "cell_type": "code",
   "execution_count": 326,
   "metadata": {
    "scrolled": true
   },
   "outputs": [
    {
     "data": {
      "text/html": [
       "<div>\n",
       "<style scoped>\n",
       "    .dataframe tbody tr th:only-of-type {\n",
       "        vertical-align: middle;\n",
       "    }\n",
       "\n",
       "    .dataframe tbody tr th {\n",
       "        vertical-align: top;\n",
       "    }\n",
       "\n",
       "    .dataframe thead th {\n",
       "        text-align: right;\n",
       "    }\n",
       "</style>\n",
       "<table border=\"1\" class=\"dataframe\">\n",
       "  <thead>\n",
       "    <tr style=\"text-align: right;\">\n",
       "      <th></th>\n",
       "      <th>Qtd Notas</th>\n",
       "      <th>media</th>\n",
       "      <th>mediana</th>\n",
       "      <th>moda</th>\n",
       "    </tr>\n",
       "  </thead>\n",
       "  <tbody>\n",
       "    <tr>\n",
       "      <th>0</th>\n",
       "      <td>9636</td>\n",
       "      <td>49.229452</td>\n",
       "      <td>50.0</td>\n",
       "      <td>50.0</td>\n",
       "    </tr>\n",
       "  </tbody>\n",
       "</table>\n",
       "</div>"
      ],
      "text/plain": [
       "   Qtd Notas      media  mediana  moda\n",
       "0       9636  49.229452     50.0  50.0"
      ]
     },
     "execution_count": 326,
     "metadata": {},
     "output_type": "execute_result"
    }
   ],
   "source": [
    "consolidado_notas = {'Qtd Notas': df_t[\"NT_OBJ_FG\"].count(),\n",
    "                     'media': df_t[\"NT_OBJ_FG\"].mean(), \n",
    "                     'mediana': float(((el_md1+el_md2)/2)),\n",
    "                     'moda': moda\n",
    "                }\n",
    "consolidado_notas = pd.DataFrame(data = consolidado_notas)\n",
    "consolidado_notas"
   ]
  },
  {
   "cell_type": "code",
   "execution_count": 325,
   "metadata": {},
   "outputs": [
    {
     "name": "stdout",
     "output_type": "stream",
     "text": [
      "coeficiente de assimetria:  -0.008377120321349315 \n",
      "\n",
      " curtose:  -0.37234018522257184\n"
     ]
    }
   ],
   "source": [
    "#Coefieciente de assimetria de pearson<0, logo terá assimetria negativa e \n",
    "#concentração a direita dos maiores valores.\n",
    "#k>0, leptocúrtica\n",
    "#k=0, Mesocúrtica\n",
    "#k<0, Platicúrtica\n",
    "#Consideramos então platicúrtica.\n",
    "\n",
    "from scipy.stats import skew, kurtosis\n",
    "print(\"coeficiente de assimetria: \",skew(df_t[\"NT_OBJ_FG\"]),\"\\n\\n\",\n",
    "\"curtose: \",kurtosis(df_t[\"NT_OBJ_FG\"]))"
   ]
  }
 ],
 "metadata": {
  "kernelspec": {
   "display_name": "Python 3",
   "language": "python",
   "name": "python3"
  },
  "language_info": {
   "codemirror_mode": {
    "name": "ipython",
    "version": 3
   },
   "file_extension": ".py",
   "mimetype": "text/x-python",
   "name": "python",
   "nbconvert_exporter": "python",
   "pygments_lexer": "ipython3",
   "version": "3.7.6"
  }
 },
 "nbformat": 4,
 "nbformat_minor": 4
}
